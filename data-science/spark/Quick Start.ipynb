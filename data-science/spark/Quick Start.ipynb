{
 "cells": [
  {
   "cell_type": "markdown",
   "metadata": {},
   "source": [
    "# Quick Start\n",
    "\n",
    "From [Quick Start](https://spark.apache.org/docs/latest/quick-start.html)"
   ]
  },
  {
   "cell_type": "code",
   "execution_count": 2,
   "metadata": {},
   "outputs": [
    {
     "name": "stdout",
     "output_type": "stream",
     "text": [
      "Count is: 5\n"
     ]
    }
   ],
   "source": [
    "# Read a text file into a Dataset.\n",
    "\n",
    "textFile = spark.read.text(\"data/names.txt\")\n",
    "print(f\"Count is: {textFile.count()}\")"
   ]
  },
  {
   "cell_type": "code",
   "execution_count": 3,
   "metadata": {},
   "outputs": [
    {
     "name": "stdout",
     "output_type": "stream",
     "text": [
      "Damon count is: 1\n"
     ]
    }
   ],
   "source": [
    "# Create a new Dataset by filtering the existing one.\n",
    "\n",
    "linesWithDamon = textFile.filter(textFile.value.contains(\"damon\"))\n",
    "print(f\"Damon count is: {linesWithDamon.count()}\")"
   ]
  },
  {
   "cell_type": "code",
   "execution_count": 4,
   "metadata": {},
   "outputs": [
    {
     "data": {
      "text/plain": [
       "[Row(max(numWords)=3)]"
      ]
     },
     "execution_count": 4,
     "metadata": {},
     "output_type": "execute_result"
    }
   ],
   "source": [
    "# Find the line with the most words\n",
    "\n",
    "from pyspark.sql.functions import *\n",
    "\n",
    "textFile.select(size(split(textFile.value, \"\\s+\")).name(\"numWords\")).agg(max(col(\"numWords\"))).collect()\n"
   ]
  },
  {
   "cell_type": "code",
   "execution_count": 5,
   "metadata": {},
   "outputs": [],
   "source": [
    "# MapReduce Example\n",
    "# \n",
    "# Use the explode function in select to transform a Dataset of lines into a Dataset of words, and then combine\n",
    "# them with groupBy and count to compute the per-word countes in the file as a Dataset of 2 columns - \"word\" and \"count\"\n",
    "\n",
    "wordCounts = textFile.select(explode(split(textFile.value, \"\\s+\")).alias(\"word\")).groupBy(\"word\").count()"
   ]
  },
  {
   "cell_type": "code",
   "execution_count": 7,
   "metadata": {},
   "outputs": [
    {
     "data": {
      "text/plain": [
       "[Row(word='elizabeth', count=1),\n",
       " Row(word='kari', count=1),\n",
       " Row(word='damon', count=1),\n",
       " Row(word='grace', count=1),\n",
       " Row(word='allison', count=4),\n",
       " Row(word='lily', count=1),\n",
       " Row(word='cole', count=1)]"
      ]
     },
     "execution_count": 7,
     "metadata": {},
     "output_type": "execute_result"
    }
   ],
   "source": [
    "wordCounts.collect()"
   ]
  },
  {
   "cell_type": "code",
   "execution_count": null,
   "metadata": {},
   "outputs": [],
   "source": []
  }
 ],
 "metadata": {
  "kernelspec": {
   "display_name": "Python 3",
   "language": "python",
   "name": "python3"
  },
  "language_info": {
   "codemirror_mode": {
    "name": "ipython",
    "version": 3
   },
   "file_extension": ".py",
   "mimetype": "text/x-python",
   "name": "python",
   "nbconvert_exporter": "python",
   "pygments_lexer": "ipython3",
   "version": "3.7.0"
  }
 },
 "nbformat": 4,
 "nbformat_minor": 2
}
